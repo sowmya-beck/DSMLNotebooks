{
 "cells": [
  {
   "cell_type": "markdown",
   "id": "686e66fb-8636-4ddd-8b4a-bc86e82e8495",
   "metadata": {},
   "source": [
    "### One Sample t-Test (Small Sample, Population SD Unknown)"
   ]
  },
  {
   "cell_type": "code",
   "execution_count": 11,
   "id": "035c0aab-269c-4ff7-8d98-3a0f74542307",
   "metadata": {},
   "outputs": [],
   "source": [
    "import numpy as np\n",
    "import scipy.stats as stats"
   ]
  },
  {
   "cell_type": "code",
   "execution_count": 13,
   "id": "70c8a6cb-1b40-4591-bc54-a270161f424b",
   "metadata": {},
   "outputs": [
    {
     "name": "stdout",
     "output_type": "stream",
     "text": [
      "499.5\n",
      "3.0276503540974917\n"
     ]
    }
   ],
   "source": [
    "# Sample data\n",
    "data = [498, 502, 495, 501, 499, 503, 500, 497, 504, 496]\n",
    "mu = 500  # Population mean\n",
    "\n",
    "# Compute sample statistics\n",
    "sample_mean = np.mean(data)\n",
    "sample_std = np.std(data, ddof=1)\n",
    "n = len(data)\n",
    "\n",
    "print(sample_mean); print(sample_std)"
   ]
  },
  {
   "cell_type": "code",
   "execution_count": 14,
   "id": "8e566b2c-d4d8-4bc8-9895-0df17713f3a4",
   "metadata": {},
   "outputs": [],
   "source": [
    "# Perform one-sample t-test\n",
    "t_statistic = (sample_mean - mu) / (sample_std / np.sqrt(n))\n",
    "t_critical = stats.t.ppf(1-0.025, df=n-1)  # Two-tailed test at 5% significance"
   ]
  },
  {
   "cell_type": "code",
   "execution_count": 15,
   "id": "b9d40abb-c944-4020-a2a1-6a7c4e002bf4",
   "metadata": {},
   "outputs": [
    {
     "name": "stdout",
     "output_type": "stream",
     "text": [
      "Sample Mean: 499.5\n",
      "Sample Standard Deviation: 3.0276503540974917\n",
      "t-Statistic: -0.5222329678670935\n",
      "Critical t-Value: 2.2621571628540993\n"
     ]
    }
   ],
   "source": [
    "# Display results\n",
    "print(f\"Sample Mean: {sample_mean}\")\n",
    "print(f\"Sample Standard Deviation: {sample_std}\")\n",
    "print(f\"t-Statistic: {t_statistic}\")\n",
    "print(f\"Critical t-Value: {t_critical}\")"
   ]
  },
  {
   "cell_type": "code",
   "execution_count": 16,
   "id": "b24ba242-5757-46b9-87e2-1dc26f270fe3",
   "metadata": {},
   "outputs": [
    {
     "name": "stdout",
     "output_type": "stream",
     "text": [
      "Fail to Reject the Null Hypothesis (H0): No significant difference.\n"
     ]
    }
   ],
   "source": [
    "# Decision\n",
    "if abs(t_statistic) > t_critical:\n",
    "    print(\"Reject the Null Hypothesis (H0): There is a significant difference.\")\n",
    "else:\n",
    "    print(\"Fail to Reject the Null Hypothesis (H0): No significant difference.\")"
   ]
  },
  {
   "cell_type": "code",
   "execution_count": null,
   "id": "28e324bb-5ecc-496f-80c9-2041c09732ab",
   "metadata": {},
   "outputs": [],
   "source": []
  },
  {
   "cell_type": "markdown",
   "id": "074b1130-492b-4f7e-9281-3f5220721dba",
   "metadata": {},
   "source": [
    "### Two Independent Sample Z-Test (Large Sample, Population SD Known)"
   ]
  },
  {
   "cell_type": "code",
   "execution_count": 17,
   "id": "a40bd158-be18-4a16-adc6-4efb71ebe932",
   "metadata": {},
   "outputs": [],
   "source": [
    "# Given data\n",
    "x1, x2 = 2500, 2300  # Sample means\n",
    "sigma1, sigma2 = 300, 250  # Population standard deviations\n",
    "n1, n2 = 40, 35  # Sample sizes"
   ]
  },
  {
   "cell_type": "code",
   "execution_count": 18,
   "id": "f3c122c0-6112-4dfb-97a4-ce25d765200f",
   "metadata": {},
   "outputs": [
    {
     "name": "stdout",
     "output_type": "stream",
     "text": [
      "Z-Statistic: 3.1482541868119163\n",
      "Critical Z-Value: 1.959963984540054\n"
     ]
    }
   ],
   "source": [
    "# Compute test statistic\n",
    "z_statistic = (x1 - x2) / np.sqrt((sigma1**2 / n1) + (sigma2**2 / n2))\n",
    "\n",
    "# Critical z-value for 5% significance level (two-tailed)\n",
    "z_critical = stats.norm.ppf(1 - 0.025)\n",
    "\n",
    "# Print results\n",
    "print(f\"Z-Statistic: {z_statistic}\")\n",
    "print(f\"Critical Z-Value: {z_critical}\")"
   ]
  },
  {
   "cell_type": "code",
   "execution_count": 19,
   "id": "a4603f00-f589-41be-afbd-5510142a7c8b",
   "metadata": {},
   "outputs": [
    {
     "name": "stdout",
     "output_type": "stream",
     "text": [
      "Reject the Null Hypothesis (H0): There is a significant difference.\n"
     ]
    }
   ],
   "source": [
    "# Decision\n",
    "if abs(z_statistic) > z_critical:\n",
    "    print(\"Reject the Null Hypothesis (H0): There is a significant difference.\")\n",
    "else:\n",
    "    print(\"Fail to Reject the Null Hypothesis (H0): No significant difference.\")"
   ]
  },
  {
   "cell_type": "code",
   "execution_count": null,
   "id": "7f2a9691-1d5e-4e0e-ab16-0a4a4428018b",
   "metadata": {},
   "outputs": [],
   "source": []
  },
  {
   "cell_type": "markdown",
   "id": "43313e9c-9ab5-46ad-a69b-d149ba1d2e18",
   "metadata": {},
   "source": [
    "### One-Sample Z-Test for Proportion (Large Sample)"
   ]
  },
  {
   "cell_type": "code",
   "execution_count": 1,
   "id": "ec45f0ff-d890-4556-b558-2b11152f6f17",
   "metadata": {},
   "outputs": [],
   "source": [
    "import numpy as np\n",
    "import scipy.stats as stats"
   ]
  },
  {
   "cell_type": "code",
   "execution_count": 2,
   "id": "da9011c1-cb5e-4c3b-b03b-585740ae8145",
   "metadata": {},
   "outputs": [],
   "source": [
    "# Given data\n",
    "p_hat = 35 / 500  # Sample proportion\n",
    "p = 0.05  # Population proportion\n",
    "n = 500  # Sample size\n",
    "\n",
    "\n",
    "# Compute test statistic\n",
    "z_statistic = (p_hat - p) / np.sqrt((p * (1 - p)) / n)"
   ]
  },
  {
   "cell_type": "code",
   "execution_count": 3,
   "id": "42b3397a-af67-463e-975e-77bfd3a6be14",
   "metadata": {},
   "outputs": [
    {
     "name": "stdout",
     "output_type": "stream",
     "text": [
      "Z-Statistic: 2.0519567041703084\n"
     ]
    }
   ],
   "source": [
    "print(f\"Z-Statistic: {z_statistic}\")"
   ]
  },
  {
   "cell_type": "code",
   "execution_count": 4,
   "id": "c2980d84-07c6-4a1f-95e4-2a1b8e277895",
   "metadata": {},
   "outputs": [
    {
     "name": "stdout",
     "output_type": "stream",
     "text": [
      "Critical Z-Value: 1.6448536269514722\n"
     ]
    }
   ],
   "source": [
    "# Critical z-value for 5% significance level (one-tailed test)\n",
    "z_critical = stats.norm.ppf(1 - 0.05)\n",
    "print(f\"Critical Z-Value: {z_critical}\")"
   ]
  },
  {
   "cell_type": "code",
   "execution_count": 5,
   "id": "72963d75-431d-444e-8ea7-00d516fbe68b",
   "metadata": {},
   "outputs": [
    {
     "name": "stdout",
     "output_type": "stream",
     "text": [
      "Reject the Null Hypothesis (H0): The defect rate is significantly higher than 5%.\n"
     ]
    }
   ],
   "source": [
    "# Decision\n",
    "if z_statistic > z_critical:\n",
    "    print(\"Reject the Null Hypothesis (H0): The defect rate is significantly higher than 5%.\")\n",
    "else:\n",
    "    print(\"Fail to Reject the Null Hypothesis (H0): No significant difference in defect rate.\")"
   ]
  },
  {
   "cell_type": "code",
   "execution_count": null,
   "id": "0f4110c1-c26d-441d-b3c5-be1630a290af",
   "metadata": {},
   "outputs": [],
   "source": []
  },
  {
   "cell_type": "markdown",
   "id": "a81dd449-e21a-4db1-9675-0809131c0fb3",
   "metadata": {},
   "source": [
    "### Two-Sample Z-Test for Proportions (Large Sample)"
   ]
  },
  {
   "cell_type": "code",
   "execution_count": 6,
   "id": "90f1431e-e09d-4278-bec4-db8d83a4b42d",
   "metadata": {},
   "outputs": [
    {
     "name": "stdout",
     "output_type": "stream",
     "text": [
      "0.6\n",
      "0.4722222222222222\n"
     ]
    }
   ],
   "source": [
    "# Given data\n",
    "n1, x1 = 200, 120  # Sample 1 (Males)\n",
    "n2, x2 = 180, 85   # Sample 2 (Females)\n",
    "\n",
    "# Compute sample proportions\n",
    "p1 = x1 / n1\n",
    "p2 = x2 / n2\n",
    "\n",
    "print(p1); print(p2)"
   ]
  },
  {
   "cell_type": "code",
   "execution_count": 7,
   "id": "c028e3a8-b0c4-4b2e-9d4a-bb9b1870f30a",
   "metadata": {},
   "outputs": [
    {
     "name": "stdout",
     "output_type": "stream",
     "text": [
      "0.5394736842105263\n"
     ]
    }
   ],
   "source": [
    "# Compute pooled proportion\n",
    "p_hat = (x1 + x2) / (n1 + n2)\n",
    "print(p_hat)"
   ]
  },
  {
   "cell_type": "code",
   "execution_count": 8,
   "id": "b0f7b8e4-4c20-4c02-8d08-870da98b0242",
   "metadata": {},
   "outputs": [
    {
     "name": "stdout",
     "output_type": "stream",
     "text": [
      "Z-Statistic: 2.4951831257077863\n"
     ]
    }
   ],
   "source": [
    "# Compute test statistic\n",
    "z_statistic = (p1 - p2) / np.sqrt(p_hat * (1 - p_hat) * ((1/n1) + (1/n2)))\n",
    "print(f\"Z-Statistic: {z_statistic}\")"
   ]
  },
  {
   "cell_type": "code",
   "execution_count": 9,
   "id": "ba3f716c-6c2e-4b88-a085-faebf8620d43",
   "metadata": {},
   "outputs": [
    {
     "name": "stdout",
     "output_type": "stream",
     "text": [
      "Critical Z-Value: 1.959963984540054\n"
     ]
    }
   ],
   "source": [
    "# Critical z-value for 5% significance level (two-tailed test)\n",
    "z_critical = stats.norm.ppf(1 - 0.025)\n",
    "print(f\"Critical Z-Value: {z_critical}\")"
   ]
  },
  {
   "cell_type": "code",
   "execution_count": 10,
   "id": "bbeefdc0-7713-474f-8c5d-4813d9c39d5b",
   "metadata": {},
   "outputs": [
    {
     "name": "stdout",
     "output_type": "stream",
     "text": [
      "Reject the Null Hypothesis (H0): There is a significant difference.\n"
     ]
    }
   ],
   "source": [
    "# Decision\n",
    "if abs(z_statistic) > z_critical:\n",
    "    print(\"Reject the Null Hypothesis (H0): There is a significant difference.\")\n",
    "else:\n",
    "    print(\"Fail to Reject the Null Hypothesis (H0): No significant difference.\")"
   ]
  },
  {
   "cell_type": "code",
   "execution_count": null,
   "id": "cfdaed5e-306e-48ba-b1c3-bb200dbe7b94",
   "metadata": {},
   "outputs": [],
   "source": []
  }
 ],
 "metadata": {
  "kernelspec": {
   "display_name": "Python 3 (ipykernel)",
   "language": "python",
   "name": "python3"
  },
  "language_info": {
   "codemirror_mode": {
    "name": "ipython",
    "version": 3
   },
   "file_extension": ".py",
   "mimetype": "text/x-python",
   "name": "python",
   "nbconvert_exporter": "python",
   "pygments_lexer": "ipython3",
   "version": "3.13.0"
  }
 },
 "nbformat": 4,
 "nbformat_minor": 5
}
