{
 "cells": [
  {
   "cell_type": "code",
   "execution_count": 1,
   "id": "0535b753-7038-4644-b8f4-d1dc561416aa",
   "metadata": {},
   "outputs": [
    {
     "data": {
      "text/html": [
       "<div>\n",
       "<style scoped>\n",
       "    .dataframe tbody tr th:only-of-type {\n",
       "        vertical-align: middle;\n",
       "    }\n",
       "\n",
       "    .dataframe tbody tr th {\n",
       "        vertical-align: top;\n",
       "    }\n",
       "\n",
       "    .dataframe thead th {\n",
       "        text-align: right;\n",
       "    }\n",
       "</style>\n",
       "<table border=\"1\" class=\"dataframe\">\n",
       "  <thead>\n",
       "    <tr style=\"text-align: right;\">\n",
       "      <th></th>\n",
       "      <th>Feature_1</th>\n",
       "      <th>Feature_2</th>\n",
       "      <th>Feature_3</th>\n",
       "      <th>Feature_4</th>\n",
       "      <th>Feature_5</th>\n",
       "      <th>Feature_6</th>\n",
       "      <th>Feature_7</th>\n",
       "      <th>Feature_8</th>\n",
       "      <th>Feature_9</th>\n",
       "      <th>Feature_10</th>\n",
       "      <th>Target</th>\n",
       "    </tr>\n",
       "  </thead>\n",
       "  <tbody>\n",
       "    <tr>\n",
       "      <th>0</th>\n",
       "      <td>0.964799</td>\n",
       "      <td>-0.066449</td>\n",
       "      <td>0.986768</td>\n",
       "      <td>-0.358079</td>\n",
       "      <td>0.997266</td>\n",
       "      <td>1.181890</td>\n",
       "      <td>-1.615679</td>\n",
       "      <td>-1.210161</td>\n",
       "      <td>-0.628077</td>\n",
       "      <td>1.227274</td>\n",
       "      <td>0</td>\n",
       "    </tr>\n",
       "    <tr>\n",
       "      <th>1</th>\n",
       "      <td>1.230350</td>\n",
       "      <td>-0.566395</td>\n",
       "      <td>1.169487</td>\n",
       "      <td>0.831617</td>\n",
       "      <td>-1.176962</td>\n",
       "      <td>1.820544</td>\n",
       "      <td>-1.788927</td>\n",
       "      <td>-0.984534</td>\n",
       "      <td>-1.091341</td>\n",
       "      <td>0.209470</td>\n",
       "      <td>0</td>\n",
       "    </tr>\n",
       "    <tr>\n",
       "      <th>2</th>\n",
       "      <td>0.969347</td>\n",
       "      <td>-0.432774</td>\n",
       "      <td>0.858089</td>\n",
       "      <td>0.793818</td>\n",
       "      <td>-0.268646</td>\n",
       "      <td>-1.836360</td>\n",
       "      <td>-1.216083</td>\n",
       "      <td>-0.246383</td>\n",
       "      <td>-1.066667</td>\n",
       "      <td>-0.297376</td>\n",
       "      <td>0</td>\n",
       "    </tr>\n",
       "    <tr>\n",
       "      <th>3</th>\n",
       "      <td>1.750412</td>\n",
       "      <td>2.023606</td>\n",
       "      <td>1.688159</td>\n",
       "      <td>0.006800</td>\n",
       "      <td>-1.607661</td>\n",
       "      <td>0.184741</td>\n",
       "      <td>-2.619427</td>\n",
       "      <td>-0.357445</td>\n",
       "      <td>-1.473127</td>\n",
       "      <td>-0.190039</td>\n",
       "      <td>0</td>\n",
       "    </tr>\n",
       "    <tr>\n",
       "      <th>4</th>\n",
       "      <td>-0.001184</td>\n",
       "      <td>-0.711303</td>\n",
       "      <td>0.208114</td>\n",
       "      <td>0.117124</td>\n",
       "      <td>1.536061</td>\n",
       "      <td>0.597538</td>\n",
       "      <td>-0.637329</td>\n",
       "      <td>-0.939156</td>\n",
       "      <td>0.684698</td>\n",
       "      <td>0.236224</td>\n",
       "      <td>0</td>\n",
       "    </tr>\n",
       "  </tbody>\n",
       "</table>\n",
       "</div>"
      ],
      "text/plain": [
       "   Feature_1  Feature_2  Feature_3  Feature_4  Feature_5  Feature_6  \\\n",
       "0   0.964799  -0.066449   0.986768  -0.358079   0.997266   1.181890   \n",
       "1   1.230350  -0.566395   1.169487   0.831617  -1.176962   1.820544   \n",
       "2   0.969347  -0.432774   0.858089   0.793818  -0.268646  -1.836360   \n",
       "3   1.750412   2.023606   1.688159   0.006800  -1.607661   0.184741   \n",
       "4  -0.001184  -0.711303   0.208114   0.117124   1.536061   0.597538   \n",
       "\n",
       "   Feature_7  Feature_8  Feature_9  Feature_10  Target  \n",
       "0  -1.615679  -1.210161  -0.628077    1.227274       0  \n",
       "1  -1.788927  -0.984534  -1.091341    0.209470       0  \n",
       "2  -1.216083  -0.246383  -1.066667   -0.297376       0  \n",
       "3  -2.619427  -0.357445  -1.473127   -0.190039       0  \n",
       "4  -0.637329  -0.939156   0.684698    0.236224       0  "
      ]
     },
     "execution_count": 1,
     "metadata": {},
     "output_type": "execute_result"
    }
   ],
   "source": [
    "from sklearn.datasets import make_classification\n",
    "import pandas as pd\n",
    "\n",
    "# Create a synthetic imbalanced dataset with 1000 samples, 10 features, and 5% positive class\n",
    "X, y = make_classification(n_samples=1000, n_features=10, n_classes=2, \n",
    "                           weights=[0.95, 0.05], random_state=42)\n",
    "\n",
    "# Convert to DataFrame for easy manipulation\n",
    "data = pd.DataFrame(X, columns=[f'Feature_{i}' for i in range(1, 11)])\n",
    "data['Target'] = y\n",
    "\n",
    "data.head()"
   ]
  },
  {
   "cell_type": "code",
   "execution_count": 2,
   "id": "77d63b89-7477-4f92-9a9b-743041e0d054",
   "metadata": {},
   "outputs": [
    {
     "name": "stdout",
     "output_type": "stream",
     "text": [
      "Target\n",
      "0    0.947\n",
      "1    0.053\n",
      "Name: proportion, dtype: float64\n"
     ]
    }
   ],
   "source": [
    "# Show the class distribution\n",
    "print(data['Target'].value_counts(normalize=True))"
   ]
  },
  {
   "cell_type": "code",
   "execution_count": null,
   "id": "0e5717d5-ff9c-4e7e-acfb-c06b829aafdf",
   "metadata": {},
   "outputs": [],
   "source": []
  },
  {
   "cell_type": "code",
   "execution_count": 3,
   "id": "0f72384b-1bf4-4233-a0f1-2cb2e18cfbb2",
   "metadata": {},
   "outputs": [],
   "source": [
    "from sklearn.model_selection import train_test_split\n",
    "\n",
    "# Separate features and target\n",
    "X = data.drop(columns=['Target'])\n",
    "y = data['Target']\n",
    "\n",
    "# Split the dataset into training and testing sets\n",
    "X_train, X_test, y_train, y_test = train_test_split(X, y, test_size=0.3, random_state=42, stratify=y)"
   ]
  },
  {
   "cell_type": "code",
   "execution_count": 4,
   "id": "f12055a9-73bc-4d65-94ad-7c35a6c08948",
   "metadata": {},
   "outputs": [
    {
     "name": "stdout",
     "output_type": "stream",
     "text": [
      "(700, 10)\n",
      "(300, 10)\n"
     ]
    }
   ],
   "source": [
    "print(X_train.shape); print(X_test.shape)"
   ]
  },
  {
   "cell_type": "code",
   "execution_count": null,
   "id": "18c771c4-3c57-47a1-a6bf-72edc65af70c",
   "metadata": {},
   "outputs": [],
   "source": []
  },
  {
   "cell_type": "code",
   "execution_count": 5,
   "id": "f769e7ef-8498-4243-8377-a25a72219502",
   "metadata": {},
   "outputs": [
    {
     "name": "stderr",
     "output_type": "stream",
     "text": [
      "C:\\Users\\Vikash.Singh\\anaconda3\\Lib\\site-packages\\sklearn\\ensemble\\_base.py:166: FutureWarning: `base_estimator` was renamed to `estimator` in version 1.2 and will be removed in 1.4.\n",
      "  warnings.warn(\n"
     ]
    },
    {
     "data": {
      "text/html": [
       "<style>#sk-container-id-1 {color: black;background-color: white;}#sk-container-id-1 pre{padding: 0;}#sk-container-id-1 div.sk-toggleable {background-color: white;}#sk-container-id-1 label.sk-toggleable__label {cursor: pointer;display: block;width: 100%;margin-bottom: 0;padding: 0.3em;box-sizing: border-box;text-align: center;}#sk-container-id-1 label.sk-toggleable__label-arrow:before {content: \"▸\";float: left;margin-right: 0.25em;color: #696969;}#sk-container-id-1 label.sk-toggleable__label-arrow:hover:before {color: black;}#sk-container-id-1 div.sk-estimator:hover label.sk-toggleable__label-arrow:before {color: black;}#sk-container-id-1 div.sk-toggleable__content {max-height: 0;max-width: 0;overflow: hidden;text-align: left;background-color: #f0f8ff;}#sk-container-id-1 div.sk-toggleable__content pre {margin: 0.2em;color: black;border-radius: 0.25em;background-color: #f0f8ff;}#sk-container-id-1 input.sk-toggleable__control:checked~div.sk-toggleable__content {max-height: 200px;max-width: 100%;overflow: auto;}#sk-container-id-1 input.sk-toggleable__control:checked~label.sk-toggleable__label-arrow:before {content: \"▾\";}#sk-container-id-1 div.sk-estimator input.sk-toggleable__control:checked~label.sk-toggleable__label {background-color: #d4ebff;}#sk-container-id-1 div.sk-label input.sk-toggleable__control:checked~label.sk-toggleable__label {background-color: #d4ebff;}#sk-container-id-1 input.sk-hidden--visually {border: 0;clip: rect(1px 1px 1px 1px);clip: rect(1px, 1px, 1px, 1px);height: 1px;margin: -1px;overflow: hidden;padding: 0;position: absolute;width: 1px;}#sk-container-id-1 div.sk-estimator {font-family: monospace;background-color: #f0f8ff;border: 1px dotted black;border-radius: 0.25em;box-sizing: border-box;margin-bottom: 0.5em;}#sk-container-id-1 div.sk-estimator:hover {background-color: #d4ebff;}#sk-container-id-1 div.sk-parallel-item::after {content: \"\";width: 100%;border-bottom: 1px solid gray;flex-grow: 1;}#sk-container-id-1 div.sk-label:hover label.sk-toggleable__label {background-color: #d4ebff;}#sk-container-id-1 div.sk-serial::before {content: \"\";position: absolute;border-left: 1px solid gray;box-sizing: border-box;top: 0;bottom: 0;left: 50%;z-index: 0;}#sk-container-id-1 div.sk-serial {display: flex;flex-direction: column;align-items: center;background-color: white;padding-right: 0.2em;padding-left: 0.2em;position: relative;}#sk-container-id-1 div.sk-item {position: relative;z-index: 1;}#sk-container-id-1 div.sk-parallel {display: flex;align-items: stretch;justify-content: center;background-color: white;position: relative;}#sk-container-id-1 div.sk-item::before, #sk-container-id-1 div.sk-parallel-item::before {content: \"\";position: absolute;border-left: 1px solid gray;box-sizing: border-box;top: 0;bottom: 0;left: 50%;z-index: -1;}#sk-container-id-1 div.sk-parallel-item {display: flex;flex-direction: column;z-index: 1;position: relative;background-color: white;}#sk-container-id-1 div.sk-parallel-item:first-child::after {align-self: flex-end;width: 50%;}#sk-container-id-1 div.sk-parallel-item:last-child::after {align-self: flex-start;width: 50%;}#sk-container-id-1 div.sk-parallel-item:only-child::after {width: 0;}#sk-container-id-1 div.sk-dashed-wrapped {border: 1px dashed gray;margin: 0 0.4em 0.5em 0.4em;box-sizing: border-box;padding-bottom: 0.4em;background-color: white;}#sk-container-id-1 div.sk-label label {font-family: monospace;font-weight: bold;display: inline-block;line-height: 1.2em;}#sk-container-id-1 div.sk-label-container {text-align: center;}#sk-container-id-1 div.sk-container {/* jupyter's `normalize.less` sets `[hidden] { display: none; }` but bootstrap.min.css set `[hidden] { display: none !important; }` so we also need the `!important` here to be able to override the default hidden behavior on the sphinx rendered scikit-learn.org. See: https://github.com/scikit-learn/scikit-learn/issues/21755 */display: inline-block !important;position: relative;}#sk-container-id-1 div.sk-text-repr-fallback {display: none;}</style><div id=\"sk-container-id-1\" class=\"sk-top-container\"><div class=\"sk-text-repr-fallback\"><pre>BaggingClassifier(base_estimator=DecisionTreeClassifier(class_weight=&#x27;balanced&#x27;,\n",
       "                                                        random_state=42),\n",
       "                  n_estimators=100, random_state=42)</pre><b>In a Jupyter environment, please rerun this cell to show the HTML representation or trust the notebook. <br />On GitHub, the HTML representation is unable to render, please try loading this page with nbviewer.org.</b></div><div class=\"sk-container\" hidden><div class=\"sk-item sk-dashed-wrapped\"><div class=\"sk-label-container\"><div class=\"sk-label sk-toggleable\"><input class=\"sk-toggleable__control sk-hidden--visually\" id=\"sk-estimator-id-1\" type=\"checkbox\" ><label for=\"sk-estimator-id-1\" class=\"sk-toggleable__label sk-toggleable__label-arrow\">BaggingClassifier</label><div class=\"sk-toggleable__content\"><pre>BaggingClassifier(base_estimator=DecisionTreeClassifier(class_weight=&#x27;balanced&#x27;,\n",
       "                                                        random_state=42),\n",
       "                  n_estimators=100, random_state=42)</pre></div></div></div><div class=\"sk-parallel\"><div class=\"sk-parallel-item\"><div class=\"sk-item\"><div class=\"sk-label-container\"><div class=\"sk-label sk-toggleable\"><input class=\"sk-toggleable__control sk-hidden--visually\" id=\"sk-estimator-id-2\" type=\"checkbox\" ><label for=\"sk-estimator-id-2\" class=\"sk-toggleable__label sk-toggleable__label-arrow\">base_estimator: DecisionTreeClassifier</label><div class=\"sk-toggleable__content\"><pre>DecisionTreeClassifier(class_weight=&#x27;balanced&#x27;, random_state=42)</pre></div></div></div><div class=\"sk-serial\"><div class=\"sk-item\"><div class=\"sk-estimator sk-toggleable\"><input class=\"sk-toggleable__control sk-hidden--visually\" id=\"sk-estimator-id-3\" type=\"checkbox\" ><label for=\"sk-estimator-id-3\" class=\"sk-toggleable__label sk-toggleable__label-arrow\">DecisionTreeClassifier</label><div class=\"sk-toggleable__content\"><pre>DecisionTreeClassifier(class_weight=&#x27;balanced&#x27;, random_state=42)</pre></div></div></div></div></div></div></div></div></div></div>"
      ],
      "text/plain": [
       "BaggingClassifier(base_estimator=DecisionTreeClassifier(class_weight='balanced',\n",
       "                                                        random_state=42),\n",
       "                  n_estimators=100, random_state=42)"
      ]
     },
     "execution_count": 5,
     "metadata": {},
     "output_type": "execute_result"
    }
   ],
   "source": [
    "from sklearn.ensemble import BaggingClassifier\n",
    "from sklearn.tree import DecisionTreeClassifier\n",
    "\n",
    "# Initialize the base estimator (Decision Tree)\n",
    "base_estimator = DecisionTreeClassifier(class_weight='balanced', random_state=42)\n",
    "\n",
    "# Initialize the Bagging Classifier\n",
    "bagging_classifier = BaggingClassifier(base_estimator=base_estimator, n_estimators=100, random_state=42)\n",
    "\n",
    "# Train the Bagging model\n",
    "bagging_classifier.fit(X_train, y_train)"
   ]
  },
  {
   "cell_type": "code",
   "execution_count": null,
   "id": "8c06996f-4159-4827-a1a4-df24ba51a6f4",
   "metadata": {},
   "outputs": [],
   "source": []
  },
  {
   "cell_type": "code",
   "execution_count": 6,
   "id": "831888c3-554f-443b-badc-af215692753a",
   "metadata": {},
   "outputs": [
    {
     "name": "stdout",
     "output_type": "stream",
     "text": [
      "Training Set:\n",
      "[[663   0]\n",
      " [  0  37]]\n",
      "              precision    recall  f1-score   support\n",
      "\n",
      "           0       1.00      1.00      1.00       663\n",
      "           1       1.00      1.00      1.00        37\n",
      "\n",
      "    accuracy                           1.00       700\n",
      "   macro avg       1.00      1.00      1.00       700\n",
      "weighted avg       1.00      1.00      1.00       700\n",
      "\n",
      "AUC Score (Train): 1.0\n",
      "\n",
      "Testing Set:\n",
      "[[281   3]\n",
      " [ 10   6]]\n",
      "              precision    recall  f1-score   support\n",
      "\n",
      "           0       0.97      0.99      0.98       284\n",
      "           1       0.67      0.38      0.48        16\n",
      "\n",
      "    accuracy                           0.96       300\n",
      "   macro avg       0.82      0.68      0.73       300\n",
      "weighted avg       0.95      0.96      0.95       300\n",
      "\n",
      "AUC Score (Test): 0.884793133802817\n"
     ]
    }
   ],
   "source": [
    "from sklearn.metrics import classification_report, confusion_matrix, roc_auc_score\n",
    "\n",
    "# Predictions on train and test sets\n",
    "y_train_pred = bagging_classifier.predict(X_train)\n",
    "y_test_pred = bagging_classifier.predict(X_test)\n",
    "\n",
    "# Confusion Matrix, Classification Report, and AUC score for Training Set\n",
    "print(\"Training Set:\")\n",
    "print(confusion_matrix(y_train, y_train_pred))\n",
    "print(classification_report(y_train, y_train_pred))\n",
    "train_auc = roc_auc_score(y_train, bagging_classifier.predict_proba(X_train)[:, 1])\n",
    "print(\"AUC Score (Train):\", train_auc)\n",
    "\n",
    "# Confusion Matrix, Classification Report, and AUC score for Testing Set\n",
    "print(\"\\nTesting Set:\")\n",
    "print(confusion_matrix(y_test, y_test_pred))\n",
    "print(classification_report(y_test, y_test_pred))\n",
    "test_auc = roc_auc_score(y_test, bagging_classifier.predict_proba(X_test)[:, 1])\n",
    "print(\"AUC Score (Test):\", test_auc)"
   ]
  },
  {
   "cell_type": "code",
   "execution_count": null,
   "id": "b5337a85-d56f-4c50-999c-118329a7468e",
   "metadata": {},
   "outputs": [],
   "source": []
  },
  {
   "cell_type": "code",
   "execution_count": 7,
   "id": "d5ac8051-646a-4aa3-8bdc-41aef6e58142",
   "metadata": {},
   "outputs": [
    {
     "data": {
      "image/png": "[encoded data removed]",
      "text/plain": [
       "<Figure size 1000x600 with 1 Axes>"
      ]
     },
     "metadata": {},
     "output_type": "display_data"
    }
   ],
   "source": [
    "import matplotlib.pyplot as plt\n",
    "import numpy as np\n",
    "\n",
    "# Get feature importances from the base estimator\n",
    "importances = np.mean([tree.feature_importances_ for tree in bagging_classifier.estimators_], axis=0)\n",
    "features = X.columns\n",
    "\n",
    "# Sort features by importance in descending order\n",
    "indices = np.argsort(importances)[::-1]\n",
    "\n",
    "# Plot the feature importances in descending order\n",
    "plt.figure(figsize=(10,6))\n",
    "plt.title(\"Feature Importance (Sorted) - Bagging Classifier\")\n",
    "plt.barh(range(len(indices)), importances[indices], align='center')\n",
    "plt.yticks(range(len(indices)), [features[i] for i in indices])\n",
    "plt.xlabel('Relative Importance')\n",
    "plt.gca().invert_yaxis()  # To have the most important feature at the top\n",
    "plt.show()"
   ]
  },
  {
   "cell_type": "code",
   "execution_count": null,
   "id": "ac38623d-b827-4f7f-8e56-f6965f41a5ec",
   "metadata": {},
   "outputs": [],
   "source": []
  },
  {
   "cell_type": "code",
   "execution_count": 8,
   "id": "08216f68-1121-4c0a-a631-63d22414735d",
   "metadata": {},
   "outputs": [
    {
     "name": "stderr",
     "output_type": "stream",
     "text": [
      "C:\\Users\\Vikash.Singh\\anaconda3\\Lib\\site-packages\\sklearn\\ensemble\\_base.py:166: FutureWarning: `base_estimator` was renamed to `estimator` in version 1.2 and will be removed in 1.4.\n",
      "  warnings.warn(\n"
     ]
    },
    {
     "name": "stdout",
     "output_type": "stream",
     "text": [
      "Best Parameters: {'n_estimators': 100, 'max_samples': 0.5, 'bootstrap': True, 'base_estimator__min_samples_split': 5, 'base_estimator__max_depth': 10}\n"
     ]
    }
   ],
   "source": [
    "from sklearn.model_selection import RandomizedSearchCV\n",
    "\n",
    "# Define the parameter grid\n",
    "param_dist = {\n",
    "    'n_estimators': [50, 100, 200],\n",
    "    'max_samples': [0.5, 0.75, 1.0],\n",
    "    'bootstrap': [True, False],\n",
    "    'base_estimator__max_depth': [None, 10, 20, 30],\n",
    "    'base_estimator__min_samples_split': [2, 5, 10]\n",
    "}\n",
    "\n",
    "# Initialize RandomizedSearchCV\n",
    "bagging_random = RandomizedSearchCV(estimator=bagging_classifier, param_distributions=param_dist, \n",
    "                                    n_iter=10, cv=3, random_state=42, n_jobs=-1)\n",
    "\n",
    "# Fit the randomized search model\n",
    "bagging_random.fit(X_train, y_train)\n",
    "\n",
    "# Best parameters from the search\n",
    "print(\"Best Parameters:\", bagging_random.best_params_)"
   ]
  },
  {
   "cell_type": "code",
   "execution_count": null,
   "id": "463a539b-d6d9-47d1-a4e4-e5da2a17d915",
   "metadata": {},
   "outputs": [],
   "source": []
  },
  {
   "cell_type": "code",
   "execution_count": 9,
   "id": "8bc07d34-eebf-431b-8927-79dea4bc85e2",
   "metadata": {},
   "outputs": [
    {
     "name": "stderr",
     "output_type": "stream",
     "text": [
      "C:\\Users\\Vikash.Singh\\anaconda3\\Lib\\site-packages\\sklearn\\ensemble\\_base.py:166: FutureWarning: `base_estimator` was renamed to `estimator` in version 1.2 and will be removed in 1.4.\n",
      "  warnings.warn(\n"
     ]
    },
    {
     "name": "stdout",
     "output_type": "stream",
     "text": [
      "Optimized Training Set:\n",
      "[[661   2]\n",
      " [ 13  24]]\n",
      "              precision    recall  f1-score   support\n",
      "\n",
      "           0       0.98      1.00      0.99       663\n",
      "           1       0.92      0.65      0.76        37\n",
      "\n",
      "    accuracy                           0.98       700\n",
      "   macro avg       0.95      0.82      0.88       700\n",
      "weighted avg       0.98      0.98      0.98       700\n",
      "\n",
      "AUC Score (Train - Optimized): 0.9976764094411154\n",
      "\n",
      "Optimized Testing Set:\n",
      "[[278   6]\n",
      " [ 11   5]]\n",
      "              precision    recall  f1-score   support\n",
      "\n",
      "           0       0.96      0.98      0.97       284\n",
      "           1       0.45      0.31      0.37        16\n",
      "\n",
      "    accuracy                           0.94       300\n",
      "   macro avg       0.71      0.65      0.67       300\n",
      "weighted avg       0.93      0.94      0.94       300\n",
      "\n",
      "AUC Score (Test - Optimized): 0.8735695422535212\n"
     ]
    }
   ],
   "source": [
    "# Initialize the Bagging Classifier with tuned hyperparameters\n",
    "bagging_classifier_optimized = bagging_random.best_estimator_\n",
    "\n",
    "# Train the optimized model\n",
    "bagging_classifier_optimized.fit(X_train, y_train)\n",
    "\n",
    "# Evaluate the optimized model\n",
    "y_train_pred_optimized = bagging_classifier_optimized.predict(X_train)\n",
    "y_test_pred_optimized = bagging_classifier_optimized.predict(X_test)\n",
    "\n",
    "# Confusion Matrix and AUC for the optimized model - Training Set\n",
    "print(\"Optimized Training Set:\")\n",
    "print(confusion_matrix(y_train, y_train_pred_optimized))\n",
    "print(classification_report(y_train, y_train_pred_optimized))\n",
    "train_auc_optimized = roc_auc_score(y_train, bagging_classifier_optimized.predict_proba(X_train)[:, 1])\n",
    "print(\"AUC Score (Train - Optimized):\", train_auc_optimized)\n",
    "\n",
    "# Confusion Matrix and AUC for the optimized model - Testing Set\n",
    "print(\"\\nOptimized Testing Set:\")\n",
    "print(confusion_matrix(y_test, y_test_pred_optimized))\n",
    "print(classification_report(y_test, y_test_pred_optimized))\n",
    "test_auc_optimized = roc_auc_score(y_test, bagging_classifier_optimized.predict_proba(X_test)[:, 1])\n",
    "print(\"AUC Score (Test - Optimized):\", test_auc_optimized)\n"
   ]
  },
  {
   "cell_type": "code",
   "execution_count": null,
   "id": "1297efa5-1eba-4d63-9492-ea2b72ec2030",
   "metadata": {},
   "outputs": [],
   "source": []
  },
  {
   "cell_type": "code",
   "execution_count": null,
   "id": "b17ee80f-1df5-4cd8-bdac-9d5c455fcc9d",
   "metadata": {},
   "outputs": [],
   "source": []
  },
  {
   "cell_type": "code",
   "execution_count": null,
   "id": "1a9bca38-fa59-4689-9a1d-6898ff6d61a6",
   "metadata": {},
   "outputs": [],
   "source": []
  },
  {
   "cell_type": "code",
   "execution_count": null,
   "id": "4bdaf764-4fcb-460d-8316-adf073f221ed",
   "metadata": {},
   "outputs": [],
   "source": []
  }
 ],
 "metadata": {
  "kernelspec": {
   "display_name": "Python 3 (ipykernel)",
   "language": "python",
   "name": "python3"
  },
  "language_info": {
   "codemirror_mode": {
    "name": "ipython",
    "version": 3
   },
   "file_extension": ".py",
   "mimetype": "text/x-python",
   "name": "python",
   "nbconvert_exporter": "python",
   "pygments_lexer": "ipython3",
   "version": "3.11.7"
  }
 },
 "nbformat": 4,
 "nbformat_minor": 5
}
