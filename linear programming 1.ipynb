{
 "cells": [
  {
   "cell_type": "code",
   "execution_count": 1,
   "id": "db4311cb-6ac1-4147-8b7a-7827e2d46427",
   "metadata": {},
   "outputs": [],
   "source": [
    "from scipy.optimize import linprog\n",
    "\n",
    "# Coefficients of the objective function (negated because linprog minimizes by default)\n",
    "c = [-2, -4]  # We are maximizing profit, so we negate the coefficients.\n",
    "\n",
    "# Coefficients of the inequality constraints\n",
    "A = [[1, 3],   # Coefficients for frame parts constraint\n",
    "     [2, 2]]   # Coefficients for electrical components constraint\n",
    "\n",
    "# Right-hand side of the inequality constraints\n",
    "b = [200, 300]  # Limits on frame parts and electrical components\n",
    "\n",
    "# Bounds for the variables: x (Product A) and y (Product B)\n",
    "x_bounds = (0, None)  # Non-negativity constraint for Product A\n",
    "y_bounds = (0, 50)    # Limit Product B to 50 units"
   ]
  },
  {
   "cell_type": "code",
   "execution_count": null,
   "id": "43e8e691-989e-4ba2-8742-a6698be7e1fb",
   "metadata": {},
   "outputs": [],
   "source": []
  },
  {
   "cell_type": "code",
   "execution_count": 2,
   "id": "e0da1734-afae-4eb4-b2d2-680da880aa6f",
   "metadata": {},
   "outputs": [
    {
     "name": "stdout",
     "output_type": "stream",
     "text": [
      "Optimal number of Product A to produce: 125.0\n",
      "Optimal number of Product B to produce: 25.0\n",
      "Maximum Profit: 350.0\n"
     ]
    },
    {
     "name": "stderr",
     "output_type": "stream",
     "text": [
      "C:\\Users\\Vikash.Singh\\AppData\\Local\\Temp\\ipykernel_23500\\3335268069.py:2: DeprecationWarning: `method='simplex'` is deprecated and will be removed in SciPy 1.11.0. Please use one of the HiGHS solvers (e.g. `method='highs'`) in new code.\n",
      "  res = linprog(c, A_ub=A, b_ub=b, bounds=[x_bounds, y_bounds], method='simplex')\n"
     ]
    }
   ],
   "source": [
    "# Solving the Linear Programming problem\n",
    "res = linprog(c, A_ub=A, b_ub=b, bounds=[x_bounds, y_bounds], method='simplex')\n",
    "\n",
    "# Displaying the results\n",
    "print('Optimal number of Product A to produce:', res.x[0])\n",
    "print('Optimal number of Product B to produce:', res.x[1])\n",
    "print('Maximum Profit:', -res.fun)  # Negate again to get the maximized profit\n"
   ]
  },
  {
   "cell_type": "code",
   "execution_count": null,
   "id": "4ca4bd3a-fe0b-4a7b-8477-52cf235a7512",
   "metadata": {},
   "outputs": [],
   "source": []
  }
 ],
 "metadata": {
  "kernelspec": {
   "display_name": "Python 3 (ipykernel)",
   "language": "python",
   "name": "python3"
  },
  "language_info": {
   "codemirror_mode": {
    "name": "ipython",
    "version": 3
   },
   "file_extension": ".py",
   "mimetype": "text/x-python",
   "name": "python",
   "nbconvert_exporter": "python",
   "pygments_lexer": "ipython3",
   "version": "3.11.7"
  }
 },
 "nbformat": 4,
 "nbformat_minor": 5
}
