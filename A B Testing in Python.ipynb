{
 "cells": [
  {
   "cell_type": "code",
   "execution_count": 1,
   "id": "7286294c-f7a1-4408-9612-d9279cdd06d9",
   "metadata": {},
   "outputs": [
    {
     "name": "stdout",
     "output_type": "stream",
     "text": [
      "  Group  Converted\n",
      "0     A          0\n",
      "1     B          0\n",
      "2     A          0\n",
      "3     A          0\n",
      "4     A          0\n"
     ]
    }
   ],
   "source": [
    "import pandas as pd\n",
    "import numpy as np\n",
    "\n",
    "# Set random seed for reproducibility\n",
    "np.random.seed(42)\n",
    "\n",
    "# Simulate data for 10,000 users\n",
    "n_users = 10000\n",
    "\n",
    "# 50% users see old design, 50% see new design\n",
    "group = np.random.choice(['A', 'B'], size=n_users)\n",
    "\n",
    "# Simulate conversion rates (5% for old design, 6.5% for new design)\n",
    "conversion_rate_A = 0.05\n",
    "conversion_rate_B = 0.065\n",
    "\n",
    "# Assign conversions\n",
    "conversions = np.where(\n",
    "    (group == 'A') & (np.random.rand(n_users) < conversion_rate_A), 1,\n",
    "    np.where((group == 'B') & (np.random.rand(n_users) < conversion_rate_B), 1, 0)\n",
    ")\n",
    "\n",
    "# Create DataFrame\n",
    "data = pd.DataFrame({'Group': group, 'Converted': conversions})\n",
    "\n",
    "# Display first few rows\n",
    "print(data.head())"
   ]
  },
  {
   "cell_type": "code",
   "execution_count": null,
   "id": "0e412c64-2d09-4143-b9c0-905f7edac143",
   "metadata": {},
   "outputs": [],
   "source": []
  },
  {
   "cell_type": "code",
   "execution_count": 2,
   "id": "c4292fac-7c91-43c0-b8df-2b84a98cb843",
   "metadata": {},
   "outputs": [
    {
     "name": "stdout",
     "output_type": "stream",
     "text": [
      "Group\n",
      "A    5013\n",
      "B    4987\n",
      "Name: count, dtype: int64\n",
      "Group\n",
      "A    0.050070\n",
      "B    0.063365\n",
      "Name: Converted, dtype: float64\n"
     ]
    }
   ],
   "source": [
    "# Check the distribution of groups\n",
    "print(data['Group'].value_counts())\n",
    "\n",
    "# Check conversion rates per group\n",
    "conversion_rates = data.groupby('Group')['Converted'].mean()\n",
    "print(conversion_rates)"
   ]
  },
  {
   "cell_type": "code",
   "execution_count": null,
   "id": "3ca25315-45c7-4088-8cc1-69af60974e83",
   "metadata": {},
   "outputs": [],
   "source": []
  },
  {
   "cell_type": "code",
   "execution_count": 3,
   "id": "f2354aaa-b0b4-423c-aae1-404698018903",
   "metadata": {},
   "outputs": [
    {
     "name": "stdout",
     "output_type": "stream",
     "text": [
      "Z-Statistic: -2.8743\n",
      "P-Value: 0.0040\n"
     ]
    }
   ],
   "source": [
    "from statsmodels.stats.proportion import proportions_ztest\n",
    "\n",
    "# Count conversions in each group\n",
    "conversions_A = data[data['Group'] == 'A']['Converted'].sum()\n",
    "conversions_B = data[data['Group'] == 'B']['Converted'].sum()\n",
    "\n",
    "# Total users in each group\n",
    "n_A = data[data['Group'] == 'A'].shape[0]\n",
    "n_B = data[data['Group'] == 'B'].shape[0]\n",
    "\n",
    "# Perform two-proportion z-test\n",
    "count = np.array([conversions_A, conversions_B])\n",
    "nobs = np.array([n_A, n_B])\n",
    "stat, pval = proportions_ztest(count, nobs)\n",
    "\n",
    "print(f\"Z-Statistic: {stat:.4f}\")\n",
    "print(f\"P-Value: {pval:.4f}\")"
   ]
  },
  {
   "cell_type": "markdown",
   "id": "1c8bbe55-a983-4c52-82b2-03f8ca08b692",
   "metadata": {},
   "source": [
    "A Z-statistic and p-value. If the p-value is less than 0.05, we reject the null hypothesis."
   ]
  },
  {
   "cell_type": "code",
   "execution_count": 4,
   "id": "fd23ed57-1f61-480c-9c27-7ecbc090253e",
   "metadata": {},
   "outputs": [
    {
     "data": {
      "text/plain": [
       "array([251, 316])"
      ]
     },
     "execution_count": 4,
     "metadata": {},
     "output_type": "execute_result"
    }
   ],
   "source": [
    "count"
   ]
  },
  {
   "cell_type": "code",
   "execution_count": 5,
   "id": "3add216f-ab89-457d-bc23-801f4b80133d",
   "metadata": {},
   "outputs": [
    {
     "data": {
      "text/plain": [
       "array([5013, 4987])"
      ]
     },
     "execution_count": 5,
     "metadata": {},
     "output_type": "execute_result"
    }
   ],
   "source": [
    "nobs"
   ]
  },
  {
   "cell_type": "code",
   "execution_count": null,
   "id": "08316388-775b-40a8-bb24-8f4536615b55",
   "metadata": {},
   "outputs": [],
   "source": []
  }
 ],
 "metadata": {
  "kernelspec": {
   "display_name": "Python 3 (ipykernel)",
   "language": "python",
   "name": "python3"
  },
  "language_info": {
   "codemirror_mode": {
    "name": "ipython",
    "version": 3
   },
   "file_extension": ".py",
   "mimetype": "text/x-python",
   "name": "python",
   "nbconvert_exporter": "python",
   "pygments_lexer": "ipython3",
   "version": "3.13.0"
  }
 },
 "nbformat": 4,
 "nbformat_minor": 5
}
